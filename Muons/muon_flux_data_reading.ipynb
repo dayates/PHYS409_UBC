{
 "cells": [
  {
   "cell_type": "markdown",
   "metadata": {},
   "source": [
    "# Muon Flux Data Reading\n",
    "## Phys409\n",
    "### Created By Daniel Yates\n",
    "\n",
    "This notebook gives an example of how to import the Muon Flux Experiment data from the course Github into arrays within a Jupyter Notebook. Feel free to copy-paste this code into your logbook and modify as you see fit--don't forget to credit it, though!"
   ]
  },
  {
   "cell_type": "code",
   "execution_count": 1,
   "metadata": {},
   "outputs": [
    {
     "name": "stdout",
     "output_type": "stream",
     "text": [
      "[ 0.  5. 10. 15. 20. 25. 30. 35. 40. 45. 50. 55. 60. 65. 70. 75. 80. 85.\n",
      " 90.]\n",
      "[1927. 2064. 2212. 1988. 1983. 1827. 1523. 1539. 1354. 1156. 1093.  947.\n",
      "  915.  883.  842.  834.  834.  888.  859.]\n"
     ]
    }
   ],
   "source": [
    "#necessary imports\n",
    "import requests\n",
    "import io\n",
    "import pandas as pd\n",
    "\n",
    "#we are going to pull the data directly from the Github into the notebook as opposed to\n",
    "#downloading it and then uploading it to your Jupyter server\n",
    "\n",
    "#we need the url of all of the data first:\n",
    "#Either of the below directories should work. If one doesn't try the other one\n",
    "\n",
    "\n",
    "directoryUrl = 'https://raw.githubusercontent.com/dayates/PHYS409_UBC/master/Muons/Data/'\n",
    "#directoryUrl = 'https://raw.githubusercontent.com/jonahberean/PHYS409_UBC/master/Muons/Data/'\n",
    "\n",
    "\n",
    "#now we need a specific filename to look at:\n",
    "fileName = '08092020_Scan1.dat'\n",
    "\n",
    "#add the file name to the url of the data\n",
    "url = directoryUrl + fileName\n",
    "\n",
    "#now we will dowload that data\n",
    "download = requests.get(url).content\n",
    "\n",
    "#now, we have to read that file. It is a tab-separated file, so this will read it and put it into a pandas dataframe\n",
    "df = pd.read_csv(io.StringIO(download.decode('utf-8')),sep=\"\\t\")\n",
    "\n",
    "#We want to convert from a pandas data frame into a numpy array\n",
    "data = df.to_numpy()\n",
    "\n",
    "#now, we want to take it from a 2-d numpy array and convert it to two lists\n",
    "angle = data[:,0]\n",
    "counts = data[:,1]\n",
    "\n",
    "#let's print them out to see what they look like:\n",
    "print(angle)\n",
    "print(counts)\n"
   ]
  },
  {
   "cell_type": "code",
   "execution_count": 2,
   "metadata": {},
   "outputs": [
    {
     "data": {
      "text/plain": [
       "Text(0.5, 1.0, '08092020_Scan1.dat')"
      ]
     },
     "execution_count": 2,
     "metadata": {},
     "output_type": "execute_result"
    },
    {
     "data": {
      "image/png": "[encoded data removed]",
      "text/plain": [
       "<Figure size 432x288 with 1 Axes>"
      ]
     },
     "metadata": {
      "needs_background": "light"
     },
     "output_type": "display_data"
    }
   ],
   "source": [
    "#let's plot this data as a simple scatter plot, just to make sure it looks like we'd expect\n",
    "import matplotlib.pyplot as plt\n",
    "import numpy as np\n",
    "\n",
    "plt.errorbar(angle,counts,xerr=None,yerr=np.sqrt(counts),fmt = 'o')\n",
    "plt.xlabel(\"Angle [$^\\circ$]\")\n",
    "plt.ylabel(\"Counts\")\n",
    "plt.title(fileName)"
   ]
  },
  {
   "cell_type": "code",
   "execution_count": null,
   "metadata": {},
   "outputs": [],
   "source": []
  }
 ],
 "metadata": {
  "kernelspec": {
   "display_name": "Python 3",
   "language": "python",
   "name": "python3"
  },
  "language_info": {
   "codemirror_mode": {
    "name": "ipython",
    "version": 3
   },
   "file_extension": ".py",
   "mimetype": "text/x-python",
   "name": "python",
   "nbconvert_exporter": "python",
   "pygments_lexer": "ipython3",
   "version": "3.8.6"
  }
 },
 "nbformat": 4,
 "nbformat_minor": 4
}
